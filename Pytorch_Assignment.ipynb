{
  "nbformat": 4,
  "nbformat_minor": 0,
  "metadata": {
    "colab": {
      "provenance": []
    },
    "kernelspec": {
      "name": "python3",
      "display_name": "Python 3"
    },
    "language_info": {
      "name": "python"
    }
  },
  "cells": [
    {
      "cell_type": "code",
      "execution_count": 12,
      "metadata": {
        "id": "Zz3LO35bBBVI"
      },
      "outputs": [],
      "source": [
        "import torch\n",
        "import torch.nn as nn\n",
        "import torch.optim as optim\n",
        "from sklearn.datasets import load_iris\n",
        "from sklearn.model_selection import train_test_split\n",
        "from sklearn.preprocessing import StandardScaler\n",
        "from sklearn.metrics import accuracy_score"
      ]
    },
    {
      "cell_type": "code",
      "source": [
        "iris = load_iris()\n",
        "X = iris.data\n",
        "y = iris.target"
      ],
      "metadata": {
        "id": "M6aERKlOBH4Q"
      },
      "execution_count": 13,
      "outputs": []
    },
    {
      "cell_type": "code",
      "source": [
        "X_train, X_test, y_train, y_test = train_test_split(X, y, test_size=0.2, random_state=42)"
      ],
      "metadata": {
        "id": "gIe-BTozBObi"
      },
      "execution_count": 14,
      "outputs": []
    },
    {
      "cell_type": "code",
      "source": [
        "scaler = StandardScaler()\n",
        "X_train = scaler.fit_transform(X_train)\n",
        "X_test = scaler.transform(X_test)"
      ],
      "metadata": {
        "id": "SHyPahZgBWdg"
      },
      "execution_count": 15,
      "outputs": []
    },
    {
      "cell_type": "code",
      "source": [
        "X_train_tensor = torch.tensor(X_train, dtype=torch.float32)\n",
        "y_train_tensor = torch.tensor(y_train, dtype=torch.long)\n",
        "X_test_tensor = torch.tensor(X_test, dtype=torch.float32)\n",
        "y_test_tensor = torch.tensor(y_test, dtype=torch.long)"
      ],
      "metadata": {
        "id": "xNUpVwmqBX6-"
      },
      "execution_count": 16,
      "outputs": []
    },
    {
      "cell_type": "code",
      "source": [
        "class SimpleClassifier(nn.Module):\n",
        "    def __init__(self, input_size, hidden_size, output_size):\n",
        "        super(SimpleClassifier, self).__init__()\n",
        "        self.fc1 = nn.Linear(input_size, hidden_size)\n",
        "        self.relu = nn.ReLU()\n",
        "        self.fc2 = nn.Linear(hidden_size, output_size)\n",
        "\n",
        "    def forward(self, x):\n",
        "        x = self.fc1(x)\n",
        "        x = self.relu(x)\n",
        "        x = self.fc2(x)\n",
        "        return x"
      ],
      "metadata": {
        "id": "mkX1aEi3Bcwr"
      },
      "execution_count": 17,
      "outputs": []
    },
    {
      "cell_type": "code",
      "source": [
        "input_size = X_train.shape[1]\n",
        "hidden_size = 16\n",
        "output_size = len(set(y_train))"
      ],
      "metadata": {
        "id": "WbMzT_D0Bg1E"
      },
      "execution_count": 18,
      "outputs": []
    },
    {
      "cell_type": "code",
      "source": [
        "model = SimpleClassifier(input_size, hidden_size, output_size)"
      ],
      "metadata": {
        "id": "OAKZe3pNByDn"
      },
      "execution_count": 19,
      "outputs": []
    },
    {
      "cell_type": "code",
      "source": [
        "criterion = nn.CrossEntropyLoss()\n",
        "optimizer = optim.Adam(model.parameters(), lr=0.001)"
      ],
      "metadata": {
        "id": "-anYQqNxBzCi"
      },
      "execution_count": 20,
      "outputs": []
    },
    {
      "cell_type": "code",
      "source": [
        "batch_size = 16\n",
        "epochs = 4000\n",
        "\n",
        "for epoch in range(epochs):\n",
        "    for i in range(0, len(X_train_tensor), batch_size):\n",
        "        optimizer.zero_grad()\n",
        "        batch_X = X_train_tensor[i:i+batch_size]\n",
        "        batch_y = y_train_tensor[i:i+batch_size]\n",
        "        outputs = model(batch_X)\n",
        "        loss = criterion(outputs, batch_y)\n",
        "        loss.backward()\n",
        "        optimizer.step()\n",
        "\n",
        "    if (epoch + 1) % 100 == 0:\n",
        "        print(f'Epoch [{epoch+1}/{epochs}], Loss: {loss.item():.4f}')"
      ],
      "metadata": {
        "id": "seEFglLAB8Av",
        "colab": {
          "base_uri": "https://localhost:8080/"
        },
        "outputId": "2a6be7d3-fcbf-4de7-8891-359988fa5a12"
      },
      "execution_count": 23,
      "outputs": [
        {
          "output_type": "stream",
          "name": "stdout",
          "text": [
            "Epoch [100/4000], Loss: 0.0123\n",
            "Epoch [200/4000], Loss: 0.0117\n",
            "Epoch [300/4000], Loss: 0.0112\n",
            "Epoch [400/4000], Loss: 0.0109\n",
            "Epoch [500/4000], Loss: 0.0105\n",
            "Epoch [600/4000], Loss: 0.0103\n",
            "Epoch [700/4000], Loss: 0.0099\n",
            "Epoch [800/4000], Loss: 0.0097\n",
            "Epoch [900/4000], Loss: 0.0094\n",
            "Epoch [1000/4000], Loss: 0.0092\n",
            "Epoch [1100/4000], Loss: 0.0090\n",
            "Epoch [1200/4000], Loss: 0.0089\n",
            "Epoch [1300/4000], Loss: 0.0086\n",
            "Epoch [1400/4000], Loss: 0.0085\n",
            "Epoch [1500/4000], Loss: 0.0080\n",
            "Epoch [1600/4000], Loss: 0.0077\n",
            "Epoch [1700/4000], Loss: 0.0073\n",
            "Epoch [1800/4000], Loss: 0.0071\n",
            "Epoch [1900/4000], Loss: 0.0068\n",
            "Epoch [2000/4000], Loss: 0.0063\n",
            "Epoch [2100/4000], Loss: 0.0060\n",
            "Epoch [2200/4000], Loss: 0.0058\n",
            "Epoch [2300/4000], Loss: 0.0056\n",
            "Epoch [2400/4000], Loss: 0.0055\n",
            "Epoch [2500/4000], Loss: 0.0054\n",
            "Epoch [2600/4000], Loss: 0.0052\n",
            "Epoch [2700/4000], Loss: 0.0051\n",
            "Epoch [2800/4000], Loss: 0.0051\n",
            "Epoch [2900/4000], Loss: 0.0048\n",
            "Epoch [3000/4000], Loss: 0.0047\n",
            "Epoch [3100/4000], Loss: 0.0047\n",
            "Epoch [3200/4000], Loss: 0.0045\n",
            "Epoch [3300/4000], Loss: 0.0045\n",
            "Epoch [3400/4000], Loss: 0.0044\n",
            "Epoch [3500/4000], Loss: 0.0042\n",
            "Epoch [3600/4000], Loss: 0.0042\n",
            "Epoch [3700/4000], Loss: 0.0042\n",
            "Epoch [3800/4000], Loss: 0.0042\n",
            "Epoch [3900/4000], Loss: 0.0039\n",
            "Epoch [4000/4000], Loss: 0.0039\n"
          ]
        }
      ]
    },
    {
      "cell_type": "code",
      "source": [
        "model.eval()\n",
        "with torch.no_grad():\n",
        "    test_outputs = model(X_test_tensor)\n",
        "    predicted_labels = torch.argmax(test_outputs, dim=1).numpy()\n",
        "    test_accuracy = accuracy_score(y_test, predicted_labels)\n",
        "\n",
        "print(f'Test Accuracy: {test_accuracy:.4f}')"
      ],
      "metadata": {
        "id": "n6UrY8_nCDbz",
        "outputId": "bd98a5f9-d819-4821-b77f-3ec44395d110",
        "colab": {
          "base_uri": "https://localhost:8080/"
        }
      },
      "execution_count": 24,
      "outputs": [
        {
          "output_type": "stream",
          "name": "stdout",
          "text": [
            "Test Accuracy: 0.9667\n"
          ]
        }
      ]
    }
  ]
}